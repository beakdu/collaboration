{
  "nbformat": 4,
  "nbformat_minor": 0,
  "metadata": {
    "colab": {
      "provenance": [],
      "authorship_tag": "ABX9TyNHz7qbtXPR9+w9dlEUcY0K",
      "include_colab_link": true
    },
    "kernelspec": {
      "name": "python3",
      "display_name": "Python 3"
    },
    "language_info": {
      "name": "python"
    }
  },
  "cells": [
    {
      "cell_type": "markdown",
      "metadata": {
        "id": "view-in-github",
        "colab_type": "text"
      },
      "source": [
        "<a href=\"https://colab.research.google.com/github/beakdu/collaboration/blob/main/20241105.ipynb\" target=\"_parent\"><img src=\"https://colab.research.google.com/assets/colab-badge.svg\" alt=\"Open In Colab\"/></a>"
      ]
    },
    {
      "cell_type": "code",
      "execution_count": 1,
      "metadata": {
        "id": "vpKfbe9aRkrg"
      },
      "outputs": [],
      "source": [
        "def solution(food):\n",
        "    answer =\"\"\n",
        "    for i in range(1,len(food)):\n",
        "        answer +=str(i)*(food[1]//2)\n",
        "\n",
        "    answer +=answer + \"0\" +answer[::-1]\n",
        "    return answer"
      ]
    }
  ]
}