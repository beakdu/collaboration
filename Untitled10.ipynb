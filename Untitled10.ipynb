{
  "nbformat": 4,
  "nbformat_minor": 0,
  "metadata": {
    "colab": {
      "provenance": [],
      "authorship_tag": "ABX9TyMt2TBCBXPmfyWDbeXaQgZS",
      "include_colab_link": true
    },
    "kernelspec": {
      "name": "python3",
      "display_name": "Python 3"
    },
    "language_info": {
      "name": "python"
    }
  },
  "cells": [
    {
      "cell_type": "markdown",
      "metadata": {
        "id": "view-in-github",
        "colab_type": "text"
      },
      "source": [
        "<a href=\"https://colab.research.google.com/github/beakdu/collaboration/blob/main/Untitled10.ipynb\" target=\"_parent\"><img src=\"https://colab.research.google.com/assets/colab-badge.svg\" alt=\"Open In Colab\"/></a>"
      ]
    },
    {
      "cell_type": "code",
      "execution_count": 2,
      "metadata": {
        "id": "fDDXbNMgkrl6"
      },
      "outputs": [],
      "source": [
        "import numpy as np\n",
        "import pandas as pd"
      ]
    },
    {
      "cell_type": "code",
      "source": [
        "series =pd.Series([1,2,3,4,5,6],dtype= object)\n",
        "print(series)\n"
      ],
      "metadata": {
        "colab": {
          "base_uri": "https://localhost:8080/"
        },
        "id": "Dt8veUTDorcN",
        "outputId": "2de2f6fd-67b0-4062-b127-b6aadfc2cde2"
      },
      "execution_count": null,
      "outputs": [
        {
          "output_type": "stream",
          "name": "stdout",
          "text": [
            "0    1\n",
            "1    2\n",
            "2    3\n",
            "3    4\n",
            "4    5\n",
            "5    6\n",
            "dtype: object\n"
          ]
        }
      ]
    },
    {
      "cell_type": "code",
      "source": [
        "tuple_data = ('홍길동','2000-08-31','남자',True)\n",
        "series = pd.Series(tuple_data, index=['이름','생일','성별','결혼유무'])\n",
        "print(series)\n",
        "print(type(series))\n",
        "print(series[0],type(series[0]))\n",
        "print(series['이름'])\n",
        "print(series[[0,1]], type(series[0]), type(series[[0,1]]))\n",
        "print(series[['이름','생일']], type(series[['이름','생일']]))\n",
        "print(series['이름':'성별'])\n"
      ],
      "metadata": {
        "colab": {
          "base_uri": "https://localhost:8080/"
        },
        "id": "GegMOLzQ5i4Y",
        "outputId": "3e354e04-5926-43a0-a65a-c1ffcad11369"
      },
      "execution_count": 19,
      "outputs": [
        {
          "output_type": "stream",
          "name": "stdout",
          "text": [
            "이름             홍길동\n",
            "생일      2000-08-31\n",
            "성별              남자\n",
            "결혼유무          True\n",
            "dtype: object\n",
            "<class 'pandas.core.series.Series'>\n",
            "홍길동 <class 'str'>\n",
            "홍길동\n",
            "이름           홍길동\n",
            "생일    2000-08-31\n",
            "dtype: object <class 'str'> <class 'pandas.core.series.Series'>\n",
            "이름           홍길동\n",
            "생일    2000-08-31\n",
            "dtype: object <class 'pandas.core.series.Series'>\n",
            "이름           홍길동\n",
            "생일    2000-08-31\n",
            "성별            남자\n",
            "dtype: object\n"
          ]
        },
        {
          "output_type": "stream",
          "name": "stderr",
          "text": [
            "<ipython-input-19-7ede414d19b2>:5: FutureWarning: Series.__getitem__ treating keys as positions is deprecated. In a future version, integer keys will always be treated as labels (consistent with DataFrame behavior). To access a value by position, use `ser.iloc[pos]`\n",
            "  print(series[0],type(series[0]))\n",
            "<ipython-input-19-7ede414d19b2>:7: FutureWarning: Series.__getitem__ treating keys as positions is deprecated. In a future version, integer keys will always be treated as labels (consistent with DataFrame behavior). To access a value by position, use `ser.iloc[pos]`\n",
            "  print(series[[0,1]], type(series[0]), type(series[[0,1]]))\n"
          ]
        }
      ]
    },
    {
      "cell_type": "code",
      "source": [],
      "metadata": {
        "id": "OqbUHUq8G7-x"
      },
      "execution_count": null,
      "outputs": []
    }
  ]
}