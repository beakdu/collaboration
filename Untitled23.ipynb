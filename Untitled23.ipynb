{
  "nbformat": 4,
  "nbformat_minor": 0,
  "metadata": {
    "colab": {
      "provenance": [],
      "authorship_tag": "ABX9TyMcKmLfOouH1LLIffwfsOOj",
      "include_colab_link": true
    },
    "kernelspec": {
      "name": "python3",
      "display_name": "Python 3"
    },
    "language_info": {
      "name": "python"
    }
  },
  "cells": [
    {
      "cell_type": "markdown",
      "metadata": {
        "id": "view-in-github",
        "colab_type": "text"
      },
      "source": [
        "<a href=\"https://colab.research.google.com/github/beakdu/collaboration/blob/main/Untitled23.ipynb\" target=\"_parent\"><img src=\"https://colab.research.google.com/assets/colab-badge.svg\" alt=\"Open In Colab\"/></a>"
      ]
    },
    {
      "cell_type": "code",
      "execution_count": 2,
      "metadata": {
        "id": "SEmCpZob9T1Y"
      },
      "outputs": [],
      "source": [
        "def solution(t,p):\n",
        "    answer =0\n",
        "    for i in range(len(t)-len(p)+1):\n",
        "        if t[i:i+len(p)] <= p:\n",
        "            answer +=1\n",
        "    return answer\n"
      ]
    }
  ]
}